{
 "cells": [
  {
   "cell_type": "code",
   "execution_count": 1,
   "id": "e2ad5025-b5d6-4444-b22f-7921f84f74d9",
   "metadata": {},
   "outputs": [],
   "source": [
    "import sys\n",
    "sys.path.append(\"../../\")  # access to local modules"
   ]
  },
  {
   "cell_type": "code",
   "execution_count": 2,
   "id": "92858bee-f75c-4231-abd5-8d7e90db9127",
   "metadata": {},
   "outputs": [],
   "source": [
    "import pandas as pd\n",
    "from pathlib import Path"
   ]
  },
  {
   "cell_type": "code",
   "execution_count": 3,
   "id": "2415405f-3ae5-4e34-af2d-7099e8111f5b",
   "metadata": {},
   "outputs": [],
   "source": [
    "from MLDemo import DataPulling"
   ]
  },
  {
   "cell_type": "code",
   "execution_count": 4,
   "id": "bb422a59-062a-4499-acf8-0a8f688f1aff",
   "metadata": {},
   "outputs": [],
   "source": [
    "CSV_PATH: str = \"datasets/ridership/CTA_-_Ridership_-_Daily_Boarding_Totals.csv\"\n",
    "SERVICE_DATE: str = \"service_date\"\n",
    "DATE: str = \"date\"\n",
    "DAY_TYPE: str = \"day_type\"\n",
    "BUS: str = \"bus\"\n",
    "RAIL: str = \"rail\"\n",
    "TOTAL: str = \"total\""
   ]
  },
  {
   "cell_type": "code",
   "execution_count": 5,
   "id": "3384ccac-5582-4129-be7b-27f34f9aa09f",
   "metadata": {},
   "outputs": [],
   "source": [
    "df: pd.DataFrame = DataPulling.open_csv(DataPulling.RIDERSHIP, parse_dates=[SERVICE_DATE])"
   ]
  },
  {
   "cell_type": "code",
   "execution_count": 6,
   "id": "b6966985-257f-4f24-81be-2d988a8d5a47",
   "metadata": {},
   "outputs": [
    {
     "data": {
      "text/html": [
       "<div>\n",
       "<style scoped>\n",
       "    .dataframe tbody tr th:only-of-type {\n",
       "        vertical-align: middle;\n",
       "    }\n",
       "\n",
       "    .dataframe tbody tr th {\n",
       "        vertical-align: top;\n",
       "    }\n",
       "\n",
       "    .dataframe thead th {\n",
       "        text-align: right;\n",
       "    }\n",
       "</style>\n",
       "<table border=\"1\" class=\"dataframe\">\n",
       "  <thead>\n",
       "    <tr style=\"text-align: right;\">\n",
       "      <th></th>\n",
       "      <th>day_type</th>\n",
       "      <th>bus</th>\n",
       "      <th>rail</th>\n",
       "    </tr>\n",
       "    <tr>\n",
       "      <th>date</th>\n",
       "      <th></th>\n",
       "      <th></th>\n",
       "      <th></th>\n",
       "    </tr>\n",
       "  </thead>\n",
       "  <tbody>\n",
       "    <tr>\n",
       "      <th>2001-01-01</th>\n",
       "      <td>U</td>\n",
       "      <td>297192</td>\n",
       "      <td>126455</td>\n",
       "    </tr>\n",
       "    <tr>\n",
       "      <th>2001-01-02</th>\n",
       "      <td>W</td>\n",
       "      <td>780827</td>\n",
       "      <td>501952</td>\n",
       "    </tr>\n",
       "    <tr>\n",
       "      <th>2001-01-03</th>\n",
       "      <td>W</td>\n",
       "      <td>824923</td>\n",
       "      <td>536432</td>\n",
       "    </tr>\n",
       "    <tr>\n",
       "      <th>2001-01-04</th>\n",
       "      <td>W</td>\n",
       "      <td>870021</td>\n",
       "      <td>550011</td>\n",
       "    </tr>\n",
       "    <tr>\n",
       "      <th>2001-01-05</th>\n",
       "      <td>W</td>\n",
       "      <td>890426</td>\n",
       "      <td>557917</td>\n",
       "    </tr>\n",
       "  </tbody>\n",
       "</table>\n",
       "</div>"
      ],
      "text/plain": [
       "           day_type     bus    rail\n",
       "date                               \n",
       "2001-01-01        U  297192  126455\n",
       "2001-01-02        W  780827  501952\n",
       "2001-01-03        W  824923  536432\n",
       "2001-01-04        W  870021  550011\n",
       "2001-01-05        W  890426  557917"
      ]
     },
     "execution_count": 6,
     "metadata": {},
     "output_type": "execute_result"
    }
   ],
   "source": [
    "# path = Path(CSV_PATH)\n",
    "# df: pd.DataFrame = pd.read_csv(path, parse_dates=[SERVICE_DATE])\n",
    "df.columns = [DATE, DAY_TYPE, BUS, RAIL, TOTAL]\n",
    "\n",
    "df = df.sort_values(DATE).set_index(DATE)\n",
    "df = df.drop(TOTAL, axis = 1)\n",
    "df = df.drop_duplicates()\n",
    "df.head()"
   ]
  },
  {
   "cell_type": "code",
   "execution_count": null,
   "id": "4fed234a-748e-4cc7-b361-bd45d3245421",
   "metadata": {},
   "outputs": [],
   "source": []
  }
 ],
 "metadata": {
  "kernelspec": {
   "display_name": "Python 3 (ipykernel)",
   "language": "python",
   "name": "python3"
  },
  "language_info": {
   "codemirror_mode": {
    "name": "ipython",
    "version": 3
   },
   "file_extension": ".py",
   "mimetype": "text/x-python",
   "name": "python",
   "nbconvert_exporter": "python",
   "pygments_lexer": "ipython3",
   "version": "3.12.3"
  }
 },
 "nbformat": 4,
 "nbformat_minor": 5
}
